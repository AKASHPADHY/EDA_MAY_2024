{
 "cells": [
  {
   "cell_type": "markdown",
   "id": "a134e066-7ea7-4a46-902e-62cc4c9a2305",
   "metadata": {},
   "source": [
    "**18.7.24**"
   ]
  },
  {
   "cell_type": "code",
   "execution_count": 1,
   "id": "f564e377-b1f7-4ed5-bb34-ab79a11e3c7f",
   "metadata": {},
   "outputs": [
    {
     "ename": "SyntaxError",
     "evalue": "unmatched ')' (3730671548.py, line 2)",
     "output_type": "error",
     "traceback": [
      "\u001b[1;36m  Cell \u001b[1;32mIn[1], line 2\u001b[1;36m\u001b[0m\n\u001b[1;33m    1)pandas                :dataframe or data application\u001b[0m\n\u001b[1;37m     ^\u001b[0m\n\u001b[1;31mSyntaxError\u001b[0m\u001b[1;31m:\u001b[0m unmatched ')'\n"
     ]
    }
   ],
   "source": [
    "======================================EDA============================\n",
    "1)pandas                :dataframe or data application\n",
    "2)numpy                 :numerical python for math operation\n",
    "3)matplotlib            :for plots graphs\n",
    "4)seaborn               :for plot graphs\n",
    "5)bokhe                 :for plots\n",
    "6)plotly                :for plots\n",
    "\n",
    "==========================Machine learnig==============================\n",
    "7)scikit learn(Sklearn) : ML models\n",
    "8)stats                 : statistical models\n",
    "\n",
    "\n",
    "==========================Data retrival from sql scrapping=============\n",
    "9)sqlite                :connect with databse\n",
    "10)Beautiful soup       :scrap the data from website\n",
    "11)websocket            :scrap\n",
    "\n",
    "\n",
    "=======================Deep learning/computer vision====================================\n",
    "12)Tensorflow           :google\n",
    "13)keras                :DL models\n",
    "14)OpenCV               :Image operations\n",
    "15)Pillow(PILL)         :Image operations\n",
    "16)Pytorch              :facebook\n",
    "17)Pretrained models\n",
    "    VGG16\n",
    "    Mobilenet\n",
    "    RESNET\n",
    "    RCNN\n",
    "    MASKRCNN\n",
    "    FASTERCNN\n",
    "    YOLO\n",
    "======================Natual language process==================================\n",
    "18)NLTK                 :natural language process\n",
    "19)Scipy\n",
    "20)Word2vec(How words will convert into vectors)\n",
    "21)GloVE\n",
    "22)Wordcloud\n",
    "\n",
    "======================Hugging face=============================================\n",
    "23)Transformers         :BERT\n",
    "\n",
    "======================GenAI models==================================================\n",
    "24)OpenAI+Microsoft:GPT models\n",
    "25)google          :gemini\n",
    "26)amazon          :Q\n",
    "27)Meta Facebook   :Meta AI\n",
    "28)Apple\n",
    "\n",
    "\n",
    "LLAMA\n",
    "GEMMA\n",
    "Dalle-E\n",
    "T5\n",
    "ALL ARE HAVING DIFFERENT DIFFERENT PACKAGES\n",
    "\n",
    "\n",
    "=====================LANGCHAIN==============================\n",
    "It is a framework which is used for gen ai model\n",
    "29)LangChain Framework\n",
    "\n",
    "=====================Deployments/applications================\n",
    "30)Flask\n",
    "31)Streamlit\n",
    "32)Django\n",
    "\n",
    "\n",
    "====================MLops=======================================\n",
    "33)Mlflow\n",
    "34)Kubeflow\n",
    "35)Azure Ai services  :azure packages\n",
    "36)GCP                :GCP packages"
   ]
  },
  {
   "cell_type": "markdown",
   "id": "1b78e302-8ae1-4f72-b568-c87973250ceb",
   "metadata": {},
   "source": [
    "**Step-1**\n",
    "\n",
    "**Create DataFRAME**"
   ]
  },
  {
   "cell_type": "markdown",
   "id": "43f2f199-5447-43b2-bf44-44a8386c9245",
   "metadata": {},
   "source": [
    "- We will create a dataframe using list\n",
    "\n",
    "- we will create a dataframe using dictionary"
   ]
  },
  {
   "cell_type": "code",
   "execution_count": 9,
   "id": "a2a475eb-a330-4804-9d26-3248d8ae59a7",
   "metadata": {},
   "outputs": [],
   "source": [
    "import pandas as pd\n"
   ]
  },
  {
   "cell_type": "code",
   "execution_count": null,
   "id": "2e055368-d955-4bf5-bcd6-a3cf4f32d8ed",
   "metadata": {},
   "outputs": [],
   "source": [
    "d1=pd.DataFrame()\n",
    "d1"
   ]
  },
  {
   "cell_type": "code",
   "execution_count": null,
   "id": "171810fe-1768-49b9-a394-74313e141f22",
   "metadata": {},
   "outputs": [],
   "source": [
    "type(d1)"
   ]
  },
  {
   "cell_type": "markdown",
   "id": "a60a6c4e-a517-44b1-9302-cf33f5ff47c7",
   "metadata": {},
   "source": [
    "**Step-2**\n",
    "\n",
    "**provide the data**"
   ]
  },
  {
   "cell_type": "code",
   "execution_count": 22,
   "id": "6e3f44a1-874e-42ed-b83c-db6b7a0eb228",
   "metadata": {},
   "outputs": [
    {
     "data": {
      "text/html": [
       "<div>\n",
       "<style scoped>\n",
       "    .dataframe tbody tr th:only-of-type {\n",
       "        vertical-align: middle;\n",
       "    }\n",
       "\n",
       "    .dataframe tbody tr th {\n",
       "        vertical-align: top;\n",
       "    }\n",
       "\n",
       "    .dataframe thead th {\n",
       "        text-align: right;\n",
       "    }\n",
       "</style>\n",
       "<table border=\"1\" class=\"dataframe\">\n",
       "  <thead>\n",
       "    <tr style=\"text-align: right;\">\n",
       "      <th></th>\n",
       "      <th>0</th>\n",
       "    </tr>\n",
       "  </thead>\n",
       "  <tbody>\n",
       "    <tr>\n",
       "      <th>0</th>\n",
       "      <td>ak</td>\n",
       "    </tr>\n",
       "    <tr>\n",
       "      <th>1</th>\n",
       "      <td>deba</td>\n",
       "    </tr>\n",
       "    <tr>\n",
       "      <th>2</th>\n",
       "      <td>subha</td>\n",
       "    </tr>\n",
       "  </tbody>\n",
       "</table>\n",
       "</div>"
      ],
      "text/plain": [
       "       0\n",
       "0     ak\n",
       "1   deba\n",
       "2  subha"
      ]
     },
     "execution_count": 22,
     "metadata": {},
     "output_type": "execute_result"
    }
   ],
   "source": [
    "names=['ak','deba','subha']\n",
    "pd.DataFrame(names)"
   ]
  },
  {
   "cell_type": "code",
   "execution_count": 24,
   "id": "b06508a7-2043-489a-909b-f3f3d15a7866",
   "metadata": {},
   "outputs": [
    {
     "data": {
      "text/html": [
       "<div>\n",
       "<style scoped>\n",
       "    .dataframe tbody tr th:only-of-type {\n",
       "        vertical-align: middle;\n",
       "    }\n",
       "\n",
       "    .dataframe tbody tr th {\n",
       "        vertical-align: top;\n",
       "    }\n",
       "\n",
       "    .dataframe thead th {\n",
       "        text-align: right;\n",
       "    }\n",
       "</style>\n",
       "<table border=\"1\" class=\"dataframe\">\n",
       "  <thead>\n",
       "    <tr style=\"text-align: right;\">\n",
       "      <th></th>\n",
       "      <th>0</th>\n",
       "      <th>1</th>\n",
       "    </tr>\n",
       "  </thead>\n",
       "  <tbody>\n",
       "    <tr>\n",
       "      <th>0</th>\n",
       "      <td>ak</td>\n",
       "      <td>20</td>\n",
       "    </tr>\n",
       "    <tr>\n",
       "      <th>1</th>\n",
       "      <td>deba</td>\n",
       "      <td>25</td>\n",
       "    </tr>\n",
       "    <tr>\n",
       "      <th>2</th>\n",
       "      <td>subha</td>\n",
       "      <td>30</td>\n",
       "    </tr>\n",
       "  </tbody>\n",
       "</table>\n",
       "</div>"
      ],
      "text/plain": [
       "       0   1\n",
       "0     ak  20\n",
       "1   deba  25\n",
       "2  subha  30"
      ]
     },
     "execution_count": 24,
     "metadata": {},
     "output_type": "execute_result"
    }
   ],
   "source": [
    "names=['ak','deba','subha']\n",
    "age=[20,25,30]\n",
    "pd.DataFrame(zip(names,age))"
   ]
  },
  {
   "cell_type": "code",
   "execution_count": 26,
   "id": "f76b7f3b-a050-4246-8fe7-b76d20e97e57",
   "metadata": {},
   "outputs": [
    {
     "data": {
      "text/html": [
       "<div>\n",
       "<style scoped>\n",
       "    .dataframe tbody tr th:only-of-type {\n",
       "        vertical-align: middle;\n",
       "    }\n",
       "\n",
       "    .dataframe tbody tr th {\n",
       "        vertical-align: top;\n",
       "    }\n",
       "\n",
       "    .dataframe thead th {\n",
       "        text-align: right;\n",
       "    }\n",
       "</style>\n",
       "<table border=\"1\" class=\"dataframe\">\n",
       "  <thead>\n",
       "    <tr style=\"text-align: right;\">\n",
       "      <th></th>\n",
       "      <th>0</th>\n",
       "      <th>1</th>\n",
       "      <th>2</th>\n",
       "    </tr>\n",
       "  </thead>\n",
       "  <tbody>\n",
       "    <tr>\n",
       "      <th>0</th>\n",
       "      <td>ak</td>\n",
       "      <td>20</td>\n",
       "      <td>bam</td>\n",
       "    </tr>\n",
       "    <tr>\n",
       "      <th>1</th>\n",
       "      <td>deba</td>\n",
       "      <td>25</td>\n",
       "      <td>bbsr</td>\n",
       "    </tr>\n",
       "    <tr>\n",
       "      <th>2</th>\n",
       "      <td>subha</td>\n",
       "      <td>30</td>\n",
       "      <td>ctc</td>\n",
       "    </tr>\n",
       "  </tbody>\n",
       "</table>\n",
       "</div>"
      ],
      "text/plain": [
       "       0   1     2\n",
       "0     ak  20   bam\n",
       "1   deba  25  bbsr\n",
       "2  subha  30   ctc"
      ]
     },
     "execution_count": 26,
     "metadata": {},
     "output_type": "execute_result"
    }
   ],
   "source": [
    "names=['ak','deba','subha']\n",
    "age=[20,25,30]\n",
    "city=['bam','bbsr','ctc']\n",
    "pd.DataFrame(zip(names,age,city))"
   ]
  },
  {
   "cell_type": "markdown",
   "id": "badbc0f4-0dbc-4fb6-a2be-11f7633e46e4",
   "metadata": {},
   "source": [
    "**step-3**\n",
    "\n",
    "**provide the column names**"
   ]
  },
  {
   "cell_type": "code",
   "execution_count": 13,
   "id": "05b33dff-93aa-4868-80e5-3a29e6ff14bc",
   "metadata": {},
   "outputs": [
    {
     "data": {
      "text/html": [
       "<div>\n",
       "<style scoped>\n",
       "    .dataframe tbody tr th:only-of-type {\n",
       "        vertical-align: middle;\n",
       "    }\n",
       "\n",
       "    .dataframe tbody tr th {\n",
       "        vertical-align: top;\n",
       "    }\n",
       "\n",
       "    .dataframe thead th {\n",
       "        text-align: right;\n",
       "    }\n",
       "</style>\n",
       "<table border=\"1\" class=\"dataframe\">\n",
       "  <thead>\n",
       "    <tr style=\"text-align: right;\">\n",
       "      <th></th>\n",
       "      <th>Names</th>\n",
       "    </tr>\n",
       "  </thead>\n",
       "  <tbody>\n",
       "    <tr>\n",
       "      <th>0</th>\n",
       "      <td>ak</td>\n",
       "    </tr>\n",
       "    <tr>\n",
       "      <th>1</th>\n",
       "      <td>deba</td>\n",
       "    </tr>\n",
       "    <tr>\n",
       "      <th>2</th>\n",
       "      <td>subha</td>\n",
       "    </tr>\n",
       "  </tbody>\n",
       "</table>\n",
       "</div>"
      ],
      "text/plain": [
       "   Names\n",
       "0     ak\n",
       "1   deba\n",
       "2  subha"
      ]
     },
     "execution_count": 13,
     "metadata": {},
     "output_type": "execute_result"
    }
   ],
   "source": [
    "names=['ak','deba','subha']\n",
    "pd.DataFrame(names,columns=['Names'])"
   ]
  },
  {
   "cell_type": "code",
   "execution_count": 11,
   "id": "4f81b74b-5713-4471-93d0-643b700bca81",
   "metadata": {},
   "outputs": [
    {
     "data": {
      "text/html": [
       "<div>\n",
       "<style scoped>\n",
       "    .dataframe tbody tr th:only-of-type {\n",
       "        vertical-align: middle;\n",
       "    }\n",
       "\n",
       "    .dataframe tbody tr th {\n",
       "        vertical-align: top;\n",
       "    }\n",
       "\n",
       "    .dataframe thead th {\n",
       "        text-align: right;\n",
       "    }\n",
       "</style>\n",
       "<table border=\"1\" class=\"dataframe\">\n",
       "  <thead>\n",
       "    <tr style=\"text-align: right;\">\n",
       "      <th></th>\n",
       "      <th>Names</th>\n",
       "      <th>Age</th>\n",
       "    </tr>\n",
       "  </thead>\n",
       "  <tbody>\n",
       "    <tr>\n",
       "      <th>0</th>\n",
       "      <td>ak</td>\n",
       "      <td>20</td>\n",
       "    </tr>\n",
       "    <tr>\n",
       "      <th>1</th>\n",
       "      <td>deba</td>\n",
       "      <td>25</td>\n",
       "    </tr>\n",
       "    <tr>\n",
       "      <th>2</th>\n",
       "      <td>subha</td>\n",
       "      <td>30</td>\n",
       "    </tr>\n",
       "  </tbody>\n",
       "</table>\n",
       "</div>"
      ],
      "text/plain": [
       "   Names  Age\n",
       "0     ak   20\n",
       "1   deba   25\n",
       "2  subha   30"
      ]
     },
     "execution_count": 11,
     "metadata": {},
     "output_type": "execute_result"
    }
   ],
   "source": [
    "names=['ak','deba','subha']\n",
    "age=[20,25,30]\n",
    "pd.DataFrame(zip(names,age),columns=['Names','Age'])"
   ]
  },
  {
   "cell_type": "code",
   "execution_count": 15,
   "id": "d18eaccc-f7fa-4650-b3a3-788e404df4c4",
   "metadata": {},
   "outputs": [
    {
     "data": {
      "text/html": [
       "<div>\n",
       "<style scoped>\n",
       "    .dataframe tbody tr th:only-of-type {\n",
       "        vertical-align: middle;\n",
       "    }\n",
       "\n",
       "    .dataframe tbody tr th {\n",
       "        vertical-align: top;\n",
       "    }\n",
       "\n",
       "    .dataframe thead th {\n",
       "        text-align: right;\n",
       "    }\n",
       "</style>\n",
       "<table border=\"1\" class=\"dataframe\">\n",
       "  <thead>\n",
       "    <tr style=\"text-align: right;\">\n",
       "      <th></th>\n",
       "      <th>Names</th>\n",
       "      <th>Age</th>\n",
       "      <th>City</th>\n",
       "    </tr>\n",
       "  </thead>\n",
       "  <tbody>\n",
       "    <tr>\n",
       "      <th>0</th>\n",
       "      <td>ak</td>\n",
       "      <td>20</td>\n",
       "      <td>bam</td>\n",
       "    </tr>\n",
       "    <tr>\n",
       "      <th>1</th>\n",
       "      <td>deba</td>\n",
       "      <td>25</td>\n",
       "      <td>bbsr</td>\n",
       "    </tr>\n",
       "    <tr>\n",
       "      <th>2</th>\n",
       "      <td>subha</td>\n",
       "      <td>30</td>\n",
       "      <td>ctc</td>\n",
       "    </tr>\n",
       "  </tbody>\n",
       "</table>\n",
       "</div>"
      ],
      "text/plain": [
       "   Names  Age  City\n",
       "0     ak   20   bam\n",
       "1   deba   25  bbsr\n",
       "2  subha   30   ctc"
      ]
     },
     "execution_count": 15,
     "metadata": {},
     "output_type": "execute_result"
    }
   ],
   "source": [
    "names=['ak','deba','subha']\n",
    "age=[20,25,30]\n",
    "city=['bam','bbsr','ctc']\n",
    "\n",
    "pd.DataFrame(zip(names,age,city),columns=['Names','Age','City'])"
   ]
  },
  {
   "cell_type": "markdown",
   "id": "61ccb81c-84c5-45b0-a76f-4022d9915b19",
   "metadata": {},
   "source": [
    "**step-4**\n",
    "\n",
    "**providing index**\n"
   ]
  },
  {
   "cell_type": "code",
   "execution_count": 17,
   "id": "d3772e20-3512-436a-b6ea-c705edd01c1c",
   "metadata": {},
   "outputs": [
    {
     "data": {
      "text/html": [
       "<div>\n",
       "<style scoped>\n",
       "    .dataframe tbody tr th:only-of-type {\n",
       "        vertical-align: middle;\n",
       "    }\n",
       "\n",
       "    .dataframe tbody tr th {\n",
       "        vertical-align: top;\n",
       "    }\n",
       "\n",
       "    .dataframe thead th {\n",
       "        text-align: right;\n",
       "    }\n",
       "</style>\n",
       "<table border=\"1\" class=\"dataframe\">\n",
       "  <thead>\n",
       "    <tr style=\"text-align: right;\">\n",
       "      <th></th>\n",
       "      <th>Names</th>\n",
       "      <th>Age</th>\n",
       "      <th>City</th>\n",
       "    </tr>\n",
       "  </thead>\n",
       "  <tbody>\n",
       "    <tr>\n",
       "      <th>a</th>\n",
       "      <td>ak</td>\n",
       "      <td>20</td>\n",
       "      <td>bam</td>\n",
       "    </tr>\n",
       "    <tr>\n",
       "      <th>b</th>\n",
       "      <td>deba</td>\n",
       "      <td>25</td>\n",
       "      <td>bbsr</td>\n",
       "    </tr>\n",
       "    <tr>\n",
       "      <th>c</th>\n",
       "      <td>subha</td>\n",
       "      <td>30</td>\n",
       "      <td>ctc</td>\n",
       "    </tr>\n",
       "  </tbody>\n",
       "</table>\n",
       "</div>"
      ],
      "text/plain": [
       "   Names  Age  City\n",
       "a     ak   20   bam\n",
       "b   deba   25  bbsr\n",
       "c  subha   30   ctc"
      ]
     },
     "execution_count": 17,
     "metadata": {},
     "output_type": "execute_result"
    }
   ],
   "source": [
    "names=['ak','deba','subha']\n",
    "age=[20,25,30]\n",
    "city=['bam','bbsr','ctc']\n",
    "\n",
    "pd.DataFrame(zip(names,age,city),index=['a','b','c'],columns=['Names','Age','City'])"
   ]
  },
  {
   "cell_type": "code",
   "execution_count": 19,
   "id": "39bf16eb-7077-4c02-bf4e-98895f3323c1",
   "metadata": {},
   "outputs": [
    {
     "data": {
      "text/html": [
       "<div>\n",
       "<style scoped>\n",
       "    .dataframe tbody tr th:only-of-type {\n",
       "        vertical-align: middle;\n",
       "    }\n",
       "\n",
       "    .dataframe tbody tr th {\n",
       "        vertical-align: top;\n",
       "    }\n",
       "\n",
       "    .dataframe thead th {\n",
       "        text-align: right;\n",
       "    }\n",
       "</style>\n",
       "<table border=\"1\" class=\"dataframe\">\n",
       "  <thead>\n",
       "    <tr style=\"text-align: right;\">\n",
       "      <th></th>\n",
       "      <th>Names</th>\n",
       "      <th>Age</th>\n",
       "    </tr>\n",
       "  </thead>\n",
       "  <tbody>\n",
       "    <tr>\n",
       "      <th>bam</th>\n",
       "      <td>ak</td>\n",
       "      <td>20</td>\n",
       "    </tr>\n",
       "    <tr>\n",
       "      <th>bbsr</th>\n",
       "      <td>deba</td>\n",
       "      <td>25</td>\n",
       "    </tr>\n",
       "    <tr>\n",
       "      <th>ctc</th>\n",
       "      <td>subha</td>\n",
       "      <td>30</td>\n",
       "    </tr>\n",
       "  </tbody>\n",
       "</table>\n",
       "</div>"
      ],
      "text/plain": [
       "      Names  Age\n",
       "bam      ak   20\n",
       "bbsr   deba   25\n",
       "ctc   subha   30"
      ]
     },
     "execution_count": 19,
     "metadata": {},
     "output_type": "execute_result"
    }
   ],
   "source": [
    "names=['ak','deba','subha']\n",
    "age=[20,25,30]\n",
    "city=['bam','bbsr','ctc']\n",
    "\n",
    "cols=['Names','Age']\n",
    "pd.DataFrame(zip(names,age),index=city,columns=cols)"
   ]
  },
  {
   "cell_type": "code",
   "execution_count": null,
   "id": "a627829e-ddf9-455c-8320-9b152ccc6bc2",
   "metadata": {},
   "outputs": [],
   "source": []
  }
 ],
 "metadata": {
  "kernelspec": {
   "display_name": "Python 3 (ipykernel)",
   "language": "python",
   "name": "python3"
  },
  "language_info": {
   "codemirror_mode": {
    "name": "ipython",
    "version": 3
   },
   "file_extension": ".py",
   "mimetype": "text/x-python",
   "name": "python",
   "nbconvert_exporter": "python",
   "pygments_lexer": "ipython3",
   "version": "3.11.7"
  }
 },
 "nbformat": 4,
 "nbformat_minor": 5
}
